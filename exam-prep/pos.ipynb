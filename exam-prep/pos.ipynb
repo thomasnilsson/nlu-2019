{
 "cells": [
  {
   "cell_type": "markdown",
   "metadata": {},
   "source": [
    "# Part of Speech tagging\n",
    "\n",
    "Authors:\n",
    "* Konstantin Taranov (exercise code and descriptions)\n",
    "* Ondrej Skopek (rewrite to a Jupyter Notebook)"
   ]
  },
  {
   "cell_type": "markdown",
   "metadata": {},
   "source": [
    "Language Modelling\n",
    "* Recognizing words\n",
    "* LM Size: |V|\n",
    "\n",
    "Part of Speech Tagging:\n",
    "* Categories of words with different meanings, but using the same word\n",
    "* Tagging: Assigning a word to category\n",
    "* Categories: Noun, Verb, Adjective, Preposition, Conjunction\n",
    "* PoS Size: |tags| << |V|\n",
    "\n",
    "Named entity recognition\n",
    "* Recognizing entities, usually nouns\n",
    "* Span labeling\n",
    "    \n",
    "Hidden Markov Models (HMM)\n",
    "* Bayesian Network, graphical model (is represented by a graph)\n",
    "    * Graph: Discrete states\n",
    "* Sunny weather, rainy weather\n"
   ]
  },
  {
   "cell_type": "markdown",
   "metadata": {},
   "source": [
    "### Problem 1\n",
    "#### A\n",
    "Using dynamic programming, the states are saved as well the s the probability of being in a particular state. This solves the probme of computing the probability of $w_n$ using a sequence for each state, and instead just use the sum of probabilities of going to the state $\\alpha_t(j) = \\sum_{i=1}^N \\alpha_{t-1}(i) a_{ij} b_{j}o(t)$\n",
    "\n",
    "\n",
    "#### B\n",
    "$P(O) = \\sum_Q P(O|Q) P(Q)$ where $|Q| = N$ and $|O|=T$, in total there are $N^T$ possible sequences/paths through the graph.\n",
    "\n",
    "#### C\n",
    "O(N^2 T) Running time. \n",
    "See book for expressions, cba writing them here."
   ]
  },
  {
   "cell_type": "markdown",
   "metadata": {},
   "source": [
    "### Problem 2\n",
    "#### A\n",
    "Rows have to sum to 1.\n",
    "\n",
    "#### B\n",
    "Calcualte probability of the sequence  $O = \\{dry, soaked, dry\\}$."
   ]
  },
  {
   "cell_type": "code",
   "execution_count": 7,
   "metadata": {},
   "outputs": [],
   "source": [
    "a = np.array([\n",
    "    [0.6, 0.4], # (sunny -> sunny) and (sunny -> rainy)\n",
    "    [0.3, 0.7]  # (rainy -> sunny) and (rainy -> rainy)\n",
    "]) \n",
    "\n",
    "b = np.array([\n",
    "    [0.9, 0.1], # (dry | sunny) and (soaked | sunny)\n",
    "    [0.2, 0.8] # (rainy | dry) and (soaked | rainy)\n",
    "])\n",
    "\n",
    "pi = np.array([0.3, 0.7]) # sunny, rainy"
   ]
  },
  {
   "cell_type": "code",
   "execution_count": 13,
   "metadata": {},
   "outputs": [
    {
     "data": {
      "text/plain": [
       "(0.27, 0.13999999999999999)"
      ]
     },
     "execution_count": 13,
     "metadata": {},
     "output_type": "execute_result"
    }
   ],
   "source": [
    "# start -> dry\n",
    "alpha_1s = pi[0] * b[0,0]\n",
    "alpha_1r = pi[1] * b[1,0]\n",
    "alpha_1s, alpha_1r"
   ]
  },
  {
   "cell_type": "code",
   "execution_count": 14,
   "metadata": {},
   "outputs": [
    {
     "data": {
      "text/plain": [
       "(0.0204, 0.16480000000000003)"
      ]
     },
     "execution_count": 14,
     "metadata": {},
     "output_type": "execute_result"
    }
   ],
   "source": [
    "# start -> dry -> soaked\n",
    "alpha_2s = (alpha_1s * a[0,0] + alpha_1r * a[1,0]) * b[0,1]\n",
    "alpha_2r = (alpha_1s * a[0,1] + alpha_1r * a[1,1]) * b[1,1]\n",
    "alpha_2s, alpha_2r"
   ]
  },
  {
   "cell_type": "code",
   "execution_count": 15,
   "metadata": {},
   "outputs": [
    {
     "data": {
      "text/plain": [
       "(0.055512000000000006, 0.024704000000000004)"
      ]
     },
     "execution_count": 15,
     "metadata": {},
     "output_type": "execute_result"
    }
   ],
   "source": [
    "# start -> dry -> soaked -> dry\n",
    "alpha_3s = (alpha_2s * a[0,0] + alpha_2r * a[1,0]) * b[0,0]\n",
    "alpha_3r = (alpha_2s * a[0,1] + alpha_2r * a[1,1]) * b[1,0]\n",
    "alpha_3s, alpha_3r"
   ]
  },
  {
   "cell_type": "code",
   "execution_count": 16,
   "metadata": {},
   "outputs": [
    {
     "name": "stdout",
     "output_type": "stream",
     "text": [
      "P([dry, soaked, dry] | A, B, PI) = 0.08021600000000001\n"
     ]
    }
   ],
   "source": [
    "P = alpha_3s + alpha_3r\n",
    "print('P([dry, soaked, dry] | A, B, PI) =', P)"
   ]
  },
  {
   "cell_type": "markdown",
   "metadata": {},
   "source": [
    "#### C\n",
    "Viterbi algorithm computes the transition sequence between hidden states with max likelihood, given an observation sequence.\n",
    "\n",
    "#### D\n",
    "Find most probale sequence of hidden states $O = \\{dry, soaked, dry\\}$."
   ]
  },
  {
   "cell_type": "code",
   "execution_count": 17,
   "metadata": {},
   "outputs": [],
   "source": [
    "labels = np.array(['Sunny', 'Rainy'])\n",
    "states = np.array([\n",
    "    [alpha_1s, alpha_1r],\n",
    "    [alpha_2s, alpha_2r],\n",
    "    [alpha_3s, alpha_3r],\n",
    "])"
   ]
  },
  {
   "cell_type": "code",
   "execution_count": 18,
   "metadata": {},
   "outputs": [
    {
     "name": "stdout",
     "output_type": "stream",
     "text": [
      "Sunny\n",
      "Rainy\n",
      "Sunny\n"
     ]
    }
   ],
   "source": [
    "for s in states:\n",
    "    print(labels[s.argmax()])"
   ]
  },
  {
   "cell_type": "code",
   "execution_count": 19,
   "metadata": {},
   "outputs": [],
   "source": [
    "def forward(a, b, pi, seq):\n",
    "    '''\n",
    "    a   : Matrix float [m x m] <state -> state matrix>\n",
    "    b   : Matrix float [m x n] <(obs|state) matrix>\n",
    "    pi  : Array  float [m]     <starting probabilities>\n",
    "    seq : Array  int   [N]     <enumeration of observations>\n",
    "    '''\n",
    "    m, n = b.shape\n",
    "    N = len(seq)\n",
    "    F = np.zeros((N, n))\n",
    "    \n",
    "    # Intialization step\n",
    "    F[0] = pi * b[:, 0]\n",
    "    \n",
    "    # Recursion step\n",
    "    for t in range(1, N):\n",
    "        o = seq[t]\n",
    "        for i in range(m):\n",
    "            for j in range(m):\n",
    "                F[t, i] += F[t-1, j] * a[j, i] * b[i, o]\n",
    "    \n",
    "    # Termination step\n",
    "    P = F[-1].sum()\n",
    "\n",
    "    return P"
   ]
  },
  {
   "cell_type": "code",
   "execution_count": 20,
   "metadata": {},
   "outputs": [
    {
     "data": {
      "text/plain": [
       "0.08021600000000001"
      ]
     },
     "execution_count": 20,
     "metadata": {},
     "output_type": "execute_result"
    }
   ],
   "source": [
    "# O = dry -> soaked -> dry\n",
    "s = [0, 1, 0]\n",
    "forward(a, b, pi, s)"
   ]
  },
  {
   "cell_type": "code",
   "execution_count": 21,
   "metadata": {},
   "outputs": [],
   "source": [
    "def viterbi(a, b, pi, seq):\n",
    "    '''\n",
    "    a   : Matrix float [m x m] <state -> state matrix>\n",
    "    b   : Matrix float [m x n] <(obs|state) matrix>\n",
    "    pi  : Array  float [m]     <starting probabilities>\n",
    "    seq : Array  int   [N]     <enumeration of observations>\n",
    "    |O| (seq) = T\n",
    "    |Q| (hidden states, rows in B) = m\n",
    "    '''\n",
    "    N = b.shape[0]\n",
    "    T = len(seq)\n",
    "    viter = np.zeros((N, T)) # Viterbi matrix\n",
    "    backpoint = np.zeros((N, T)) # Backpointer matrix\n",
    "   \n",
    "    \n",
    "    # 1: Intialization step\n",
    "    viter[:, 0] = pi * b[:, 0] # Set first column to start probs\n",
    "    backpoint[:, 0] = 0            # Set first column to zero\n",
    "\n",
    "    # 2: Recursion step\n",
    "    viterbi_current = np.zeros(N)\n",
    "    for t in range(1, T):\n",
    "        ot = seq[t]\n",
    "        for s in range(N):\n",
    "            for sp in range(N):\n",
    "                viterbi_current[sp] = viter[s, t-1] * a[sp, s] * b[s, ot]\n",
    "            \n",
    "            viter[s, t] = viterbi_current.max()\n",
    "            backpoint[s, t] = viterbi_current.argmax()\n",
    "    \n",
    "    # 3: Termination step\n",
    "    best_path_prob = viter[:, T-1].max()\n",
    "    best_path_pointer = backpoint[:, T-1].argmax()\n",
    "    \n",
    "    # Start backtracking\n",
    "    best_path = np.zeros(T)\n",
    "    for t in reversed(range(T-1)):\n",
    "        best_path[t] = backpoint[:, t].argmax()\n",
    "    \n",
    "    # Finished\n",
    "    return best_path.astype(int), best_path_prob"
   ]
  },
  {
   "cell_type": "code",
   "execution_count": 22,
   "metadata": {},
   "outputs": [],
   "source": [
    "path, prob = viterbi(a, b, pi, s)"
   ]
  },
  {
   "cell_type": "code",
   "execution_count": 23,
   "metadata": {},
   "outputs": [
    {
     "name": "stdout",
     "output_type": "stream",
     "text": [
      "Best path ['Sunny' 'Rainy' 'Sunny']\n",
      "Best prob 0.010976\n"
     ]
    }
   ],
   "source": [
    "print('Best path', labels[path])\n",
    "print('Best prob', prob)"
   ]
  },
  {
   "cell_type": "markdown",
   "metadata": {},
   "source": [
    "## Imports and visualization functions"
   ]
  },
  {
   "cell_type": "raw",
   "metadata": {},
   "source": [
    "!pip install tabulate"
   ]
  },
  {
   "cell_type": "code",
   "execution_count": 24,
   "metadata": {},
   "outputs": [],
   "source": [
    "import nltk\n",
    "import numpy as np\n",
    "import ssl\n",
    "from pylab import *\n",
    "font = {'weight' : 'normal', 'size'   : 16}\n",
    "matplotlib.rc('font', **font)"
   ]
  },
  {
   "cell_type": "code",
   "execution_count": 25,
   "metadata": {},
   "outputs": [
    {
     "name": "stdout",
     "output_type": "stream",
     "text": [
      "[nltk_data] Downloading package punkt to\n",
      "[nltk_data]     /Users/thomasnilsson/nltk_data...\n",
      "[nltk_data]   Package punkt is already up-to-date!\n",
      "[nltk_data] Downloading package averaged_perceptron_tagger to\n",
      "[nltk_data]     /Users/thomasnilsson/nltk_data...\n",
      "[nltk_data]   Package averaged_perceptron_tagger is already up-to-\n",
      "[nltk_data]       date!\n",
      "[nltk_data] Downloading package universal_tagset to\n",
      "[nltk_data]     /Users/thomasnilsson/nltk_data...\n",
      "[nltk_data]   Package universal_tagset is already up-to-date!\n",
      "[nltk_data] Downloading package tagsets to\n",
      "[nltk_data]     /Users/thomasnilsson/nltk_data...\n",
      "[nltk_data]   Package tagsets is already up-to-date!\n"
     ]
    }
   ],
   "source": [
    "# Solves the problem with SSL certificates while downloading nltk packets\n",
    "try:\n",
    "    _create_unverified_https_context = ssl._create_unverified_context\n",
    "except AttributeError:\n",
    "    pass\n",
    "else:\n",
    "    ssl._create_default_https_context = _create_unverified_https_context\n",
    "\n",
    "nltk.download('punkt')\n",
    "nltk.download('averaged_perceptron_tagger')\n",
    "nltk.download('universal_tagset')\n",
    "nltk.download('tagsets')\n",
    "\n",
    "from IPython.display import HTML, display, Markdown\n",
    "import tabulate\n",
    "\n",
    "def md(*md):\n",
    "    \"\"\"Displays rendered Markdown.\"\"\"\n",
    "    display(Markdown(\" \".join(map(str, md))))\n",
    "b\n",
    "def show_tags(tags):\n",
    "    \"\"\"Displays an HTML table for a tagged sentence.\"\"\"\n",
    "    tags = list(map(list, zip(*tags)))\n",
    "    display(HTML(tabulate.tabulate(tags, tablefmt='html')))\n",
    "    \n",
    "def show_viterbi(viterbi, tags, sentence, t):\n",
    "    \"\"\"Displays an HTML table for a Viterbi matrix.\"\"\"\n",
    "    md(\"#### Viterbi probabilities at time $t = {}$\".format(t))\n",
    "    viterbi = viterbi.tolist()\n",
    "    for tag_idx, row in enumerate(viterbi):\n",
    "        new_row = [tags[tag_idx]]\n",
    "        for sent_idx, element in enumerate(row):\n",
    "            new_row.append(\"0\" if element == 0 else \"{:.2e}\".format(element))\n",
    "        viterbi[tag_idx] = new_row\n",
    "    viterbi.insert(0, [\"\"] + sentence)\n",
    "    \n",
    "    display(HTML(tabulate.tabulate(viterbi, tablefmt='html')))"
   ]
  },
  {
   "cell_type": "markdown",
   "metadata": {},
   "source": [
    "## PoS tagging\n",
    "\n",
    "PoS tagging is the process of tagging a word in a text where the tag is a particular part of speech mark.\n",
    "\n",
    "The 12 universal tags are:\n",
    "\n",
    "* `VERB` - verbs (all tenses and modes)\n",
    "* `NOUN` - nouns (common and proper)\n",
    "* `PRON` - pronouns\n",
    "* `ADJ` - adjectives\n",
    "* `ADV` - adverbs\n",
    "* `ADP` - adpositions (prepositions and postpositions)\n",
    "* `CONJ` - conjunctions\n",
    "* `DET` - determiners\n",
    "* `NUM` - cardinal numbers\n",
    "* `PRT` - particles or other function words\n",
    "* `X` - other: foreign words, typos, abbreviations\n",
    "* `.` - punctuation\n",
    "\n",
    "### Examples of tagging:"
   ]
  },
  {
   "cell_type": "code",
   "execution_count": 26,
   "metadata": {},
   "outputs": [
    {
     "data": {
      "text/html": [
       "<table>\n",
       "<tbody>\n",
       "<tr><td>ETH </td><td>is  </td><td>the</td><td>best</td><td>university</td><td>in </td><td>the</td><td>world</td><td>.</td></tr>\n",
       "<tr><td>NOUN</td><td>VERB</td><td>DET</td><td>ADJ </td><td>NOUN      </td><td>ADP</td><td>DET</td><td>NOUN </td><td>.</td></tr>\n",
       "</tbody>\n",
       "</table>"
      ],
      "text/plain": [
       "<IPython.core.display.HTML object>"
      ]
     },
     "metadata": {},
     "output_type": "display_data"
    }
   ],
   "source": [
    "text = nltk.word_tokenize(\"ETH is the best university in the world.\")\n",
    "tags = nltk.pos_tag(text,tagset='universal')\n",
    "show_tags(tags)"
   ]
  },
  {
   "cell_type": "code",
   "execution_count": 27,
   "metadata": {},
   "outputs": [
    {
     "data": {
      "text/html": [
       "<table>\n",
       "<tbody>\n",
       "<tr><td>Dogs</td><td>are </td><td>animals</td><td>.</td></tr>\n",
       "<tr><td>NOUN</td><td>VERB</td><td>NOUN   </td><td>.</td></tr>\n",
       "</tbody>\n",
       "</table>"
      ],
      "text/plain": [
       "<IPython.core.display.HTML object>"
      ]
     },
     "metadata": {},
     "output_type": "display_data"
    }
   ],
   "source": [
    "text = nltk.word_tokenize(\"Dogs are animals.\")\n",
    "tags = nltk.pos_tag(text,tagset='universal')\n",
    "show_tags(tags)"
   ]
  },
  {
   "cell_type": "markdown",
   "metadata": {},
   "source": [
    "## Implementing your own PoS tagger\n",
    "\n",
    "In this exercise, you should implement your own PoS tagger using a Hidden Markov Model."
   ]
  },
  {
   "cell_type": "markdown",
   "metadata": {},
   "source": [
    "For learning your model the following Tagged Corpora can be used:"
   ]
  },
  {
   "cell_type": "code",
   "execution_count": 28,
   "metadata": {},
   "outputs": [
    {
     "name": "stdout",
     "output_type": "stream",
     "text": [
      "[nltk_data] Downloading package brown to\n",
      "[nltk_data]     /Users/thomasnilsson/nltk_data...\n",
      "[nltk_data]   Package brown is already up-to-date!\n"
     ]
    }
   ],
   "source": [
    "# nltk.download('treebank')\n",
    "#from nltk.corpus import treebank as corpus\n",
    "\n",
    "nltk.download('brown')\n",
    "from nltk.corpus import brown as corpus"
   ]
  },
  {
   "cell_type": "markdown",
   "metadata": {},
   "source": [
    "First, we add an artificial `START` and `END` tag at the beginning and end of each sentence."
   ]
  },
  {
   "cell_type": "code",
   "execution_count": 29,
   "metadata": {},
   "outputs": [],
   "source": [
    "tagged_words = []\n",
    "all_tags = []\n",
    "\n",
    "for sent in corpus.tagged_sents(tagset='universal'):\n",
    "    tagged_words.append((\"START\", \"START\"))\n",
    "    all_tags.append(\"START\")\n",
    "    for word, tag in sent:\n",
    "        all_tags.append(tag)\n",
    "        tagged_words.append((tag, word))\n",
    "    tagged_words.append((\"END\", \"END\"))\n",
    "    all_tags.append(\"END\")"
   ]
  },
  {
   "cell_type": "markdown",
   "metadata": {},
   "source": [
    "### Estimating probabilities\n",
    "For the Viterbi algorithm we need to compute:\n",
    "\n",
    "1. The maximum likelihood estimate of a transition probability\n",
    "\n",
    "$$P(t_{i} | t_{i-1}) = \\frac{C(t_{i-1}, t_{i})}{C(t_{i-1})}$$\n",
    "\n",
    "2. Emission probabilities\n",
    "\n",
    "$$P(w_{i} | t_{i}) =  \\frac{C(t_{i}, w_{i})}{C(t_{i})}$$"
   ]
  },
  {
   "cell_type": "markdown",
   "metadata": {},
   "source": [
    "#### Transitions"
   ]
  },
  {
   "cell_type": "markdown",
   "metadata": {},
   "source": [
    "Compute $C(t_{i-1}, t_{i})$"
   ]
  },
  {
   "cell_type": "code",
   "execution_count": 31,
   "metadata": {},
   "outputs": [],
   "source": [
    "cfd_tags= nltk.ConditionalFreqDist(nltk.bigrams(all_tags))"
   ]
  },
  {
   "cell_type": "code",
   "execution_count": 32,
   "metadata": {},
   "outputs": [
    {
     "data": {
      "text/plain": [
       "<Figure size 1440x720 with 0 Axes>"
      ]
     },
     "metadata": {},
     "output_type": "display_data"
    },
    {
     "data": {
      "image/png": "[encoded data removed]",
      "text/plain": [
       "<Figure size 1440x720 with 1 Axes>"
      ]
     },
     "metadata": {},
     "output_type": "display_data"
    }
   ],
   "source": [
    "figure(figsize=[20,10])\n",
    "cfd_tags.plot('.', markersize=12)"
   ]
  },
  {
   "cell_type": "markdown",
   "metadata": {},
   "source": [
    "Transition probabilities $P(t_{i} | t_{i-1})$"
   ]
  },
  {
   "cell_type": "code",
   "execution_count": 33,
   "metadata": {},
   "outputs": [],
   "source": [
    "cpd_tags = nltk.ConditionalProbDist(cfd_tags, nltk.MLEProbDist)"
   ]
  },
  {
   "cell_type": "code",
   "execution_count": 34,
   "metadata": {},
   "outputs": [
    {
     "data": {
      "text/plain": [
       "dict_keys(['START', 'DET', 'NOUN', 'ADJ', 'VERB', 'ADP', '.', 'END', 'ADV', 'CONJ', 'PRT', 'PRON', 'NUM', 'X'])"
      ]
     },
     "execution_count": 34,
     "metadata": {},
     "output_type": "execute_result"
    }
   ],
   "source": [
    "cpd_tags.keys()"
   ]
  },
  {
   "cell_type": "markdown",
   "metadata": {},
   "source": [
    "##### Examples"
   ]
  },
  {
   "cell_type": "code",
   "execution_count": 35,
   "metadata": {
    "scrolled": true
   },
   "outputs": [
    {
     "name": "stdout",
     "output_type": "stream",
     "text": [
      "Frequency of C('DET', 'NOUN') is 85838\n",
      "Probability of P('NOUN' | 'DET') is 0.6264678621213117\n"
     ]
    }
   ],
   "source": [
    "# C('DET', 'NOUN'):\n",
    "print(\"Frequency of C('DET', 'NOUN') is\",\n",
    "      cfd_tags['DET']['NOUN'] )\n",
    "\n",
    "# P('NOUN' | 'DET')\n",
    "print(\"Probability of P('NOUN' | 'DET') is\",\n",
    "      cpd_tags['DET'].prob('NOUN') )"
   ]
  },
  {
   "cell_type": "markdown",
   "metadata": {},
   "source": [
    "#### Emmision"
   ]
  },
  {
   "cell_type": "markdown",
   "metadata": {},
   "source": [
    "Compute $C(t_{i}, w_{i})$"
   ]
  },
  {
   "cell_type": "code",
   "execution_count": 36,
   "metadata": {},
   "outputs": [],
   "source": [
    "cfd_tagwords = nltk.ConditionalFreqDist(tagged_words)"
   ]
  },
  {
   "cell_type": "markdown",
   "metadata": {},
   "source": [
    "Emission probabilities $P(w_{i} | t_{i})$"
   ]
  },
  {
   "cell_type": "code",
   "execution_count": 37,
   "metadata": {},
   "outputs": [],
   "source": [
    "cpd_tagwords = nltk.ConditionalProbDist(cfd_tagwords, nltk.MLEProbDist)"
   ]
  },
  {
   "cell_type": "markdown",
   "metadata": {},
   "source": [
    "##### Examples"
   ]
  },
  {
   "cell_type": "code",
   "execution_count": 38,
   "metadata": {},
   "outputs": [
    {
     "name": "stdout",
     "output_type": "stream",
     "text": [
      "Frequency of C('DET', 'the') is 62710\n",
      "Probability of P('the' | 'DET') is 0.45767375327509324\n",
      "Probability of P(!'the' | 'DET') is 0.5423262467249068\n"
     ]
    }
   ],
   "source": [
    "# C('DET', 'NOUN'):\n",
    "print(\"Frequency of C('DET', 'the') is\",\n",
    "      cfd_tagwords['DET']['the'])\n",
    "\n",
    "# P('the' | 'DET')\n",
    "print(\"Probability of P('the' | 'DET') is\",\n",
    "      cpd_tagwords['DET'].prob('the') )\n",
    "\n",
    "# P(!'the' | 'DET')\n",
    "print(\"Probability of P(!'the' | 'DET') is\",\n",
    "      1 - cpd_tagwords['DET'].prob('the') )"
   ]
  },
  {
   "cell_type": "markdown",
   "metadata": {},
   "source": [
    "### Task 1 (Joint probability)\n",
    "\n",
    "Estimate the joint probability $P(t^{n}, w^{n})$ of the tag sequence `[NOUN VERB VERB .]` for the word sequence `[birds can fly .]` \n",
    "using the transition and emission probabilities estimated above.\n",
    "\n",
    "Bonus: Implement the task in both raw probabilities and log probabilities."
   ]
  },
  {
   "cell_type": "markdown",
   "metadata": {},
   "source": [
    "#### Task 1: Code"
   ]
  },
  {
   "cell_type": "code",
   "execution_count": 39,
   "metadata": {},
   "outputs": [],
   "source": [
    "# Raw probability\n",
    "raw =   cpd_tags['START'].prob('NOUN') * cpd_tagwords['NOUN'].prob('birds') * \\\n",
    "        cpd_tags['NOUN'].prob('VERB') * cpd_tagwords['VERB'].prob('can') * \\\n",
    "        cpd_tags['VERB'].prob('VERB') * cpd_tagwords['VERB'].prob('fly') * \\\n",
    "        cpd_tags['VERB'].prob('.') * cpd_tagwords['.'].prob('.') * \\\n",
    "        cpd_tags['.'].prob('END')"
   ]
  },
  {
   "cell_type": "code",
   "execution_count": 40,
   "metadata": {},
   "outputs": [],
   "source": [
    "def joint_raw(tags, words):\n",
    "    # Check if same number of words and tags\n",
    "    N = len(tags)\n",
    "    if N != len(words): raise Exception('Tag seq. and word seq. are not of the same length!')\n",
    "    \n",
    "    # Special case for first word\n",
    "    P = cpd_tags['START'].prob(tags[0]) * cpd_tagwords[tags[0]].prob(words[0])\n",
    "    \n",
    "    # Everything in the middle\n",
    "    for i in range(1, N):\n",
    "        P *=  cpd_tags[tags[i-1]].prob(tags[i]) * \\\n",
    "        cpd_tagwords[tags[i]].prob(words[i])\n",
    "        \n",
    "    # Special case for last word\n",
    "    P *= cpd_tags[tags[-1]].prob('END')\n",
    "    \n",
    "    return P"
   ]
  },
  {
   "cell_type": "code",
   "execution_count": 41,
   "metadata": {},
   "outputs": [
    {
     "data": {
      "text/plain": [
       "6.593297174568127e-15"
      ]
     },
     "execution_count": 41,
     "metadata": {},
     "output_type": "execute_result"
    }
   ],
   "source": [
    "tags = nltk.word_tokenize('NOUN VERB VERB.')\n",
    "seq = nltk.word_tokenize('birds can fly.')\n",
    "joint_raw(tags, seq)"
   ]
  },
  {
   "cell_type": "code",
   "execution_count": 42,
   "metadata": {},
   "outputs": [
    {
     "data": {
      "text/plain": [
       "6.5932971745681245e-15"
      ]
     },
     "execution_count": 42,
     "metadata": {},
     "output_type": "execute_result"
    }
   ],
   "source": [
    "raw"
   ]
  },
  {
   "cell_type": "markdown",
   "metadata": {},
   "source": [
    "### Task 2 (Viterbi algorithm)\n",
    "\n",
    "Implement the Viterbi algorithm for PoS tagging.\n",
    "\n",
    "Bonus: Implement the task in both raw probabilities and log probabilities."
   ]
  },
  {
   "cell_type": "markdown",
   "metadata": {},
   "source": [
    "#### Code"
   ]
  },
  {
   "cell_type": "code",
   "execution_count": 247,
   "metadata": {},
   "outputs": [],
   "source": [
    "def viterbi_pos(a, b, seq):\n",
    "    '''\n",
    "    a       : cpd_tags                <(state[j] | state[i]) matrix>\n",
    "    b       : cpd_tagwords            <(obs[t] | state[j]) matrix>\n",
    "    seq     : sentence to tag         <observations>\n",
    "    T = |O| : Number of distinct tags\n",
    "    N = |Q| : Length of sequence\n",
    "    ''' \n",
    "    START_TAG, END_TAG = 'START', 'END'\n",
    "    tags = np.array(list(b.keys()))\n",
    "    N = len(tags)\n",
    "    T = len(seq)    \n",
    "    \n",
    "    # Viterbi matrix\n",
    "    viterbi = np.zeros((N, T+1), dtype=float) \n",
    "    \n",
    "    # Backpointer matrix, first column already set to zero\n",
    "    backpointer = np.zeros((N, T+1), dtype=int) \n",
    "    \n",
    "    # 1: INIT STEP (t = 0)\n",
    "    for s, tag in enumerate(tags):\n",
    "        viterbi[s, 0] = a[START_TAG].prob(tag) * b[tag].prob(seq[0])\n",
    "        \n",
    "    # 2: RECURSION STEP (t = 1 ... T-1)\n",
    "    for t in range(1, T):\n",
    "        viterbi_temp = np.zeros(N, dtype=float)\n",
    "        for s, tag in enumerate(tags):\n",
    "            for sp, tagp in enumerate(tags):\n",
    "                viterbi_temp[sp] = viterbi[sp, t-1] * a[tagp].prob(tag) *b[tag] .prob(seq[t])\n",
    "            viterbi[s, t] = viterbi_temp.max()\n",
    "            backpointer[s, t] = viterbi_temp.argmax()\n",
    "        \n",
    "    # Edge case for last index (t = T)\n",
    "    for s, tag in enumerate(tags):  \n",
    "        viterbi_temp[s] = viterbi[s, T-1] * a[tag].prob(END_TAG)\n",
    "    \n",
    "    s_end = np.where(tags == END_TAG)[0][0]\n",
    "    viterbi[s_end, T] = viterbi_temp.max()\n",
    "    backpointer[s_end, T] = viterbi_temp.argmax()\n",
    "    \n",
    "    # 3: TERMINATION STEP\n",
    "    best_path_prob = viterbi[:, T].max()\n",
    "    # Take the highest backpointer values, omit the first token (START token)\n",
    "    best_path = backpointer.max(axis=0)[1:] \n",
    "    \n",
    "    return best_path, best_path_prob"
   ]
  },
  {
   "cell_type": "markdown",
   "metadata": {},
   "source": [
    "### Task 3\n",
    "\n",
    "Using your HMM, try to tag the sentences below. Then, answer the following questions:\n",
    "* Why does it fail to predict tags for the sentence about ETH?\n",
    "  * Could it just have mislabeled the sentence because it disagreed with the statement? ;-)"
   ]
  },
  {
   "cell_type": "code",
   "execution_count": null,
   "metadata": {},
   "outputs": [],
   "source": [
    "tag_labels = np.array(list(cpd_tagwords.keys()))"
   ]
  },
  {
   "cell_type": "code",
   "execution_count": 259,
   "metadata": {},
   "outputs": [
    {
     "data": {
      "text/html": [
       "<table>\n",
       "<tbody>\n",
       "<tr><td>The</td><td>dog </td><td>is  </td><td>mine</td><td>.</td></tr>\n",
       "<tr><td>DET</td><td>NOUN</td><td>VERB</td><td>PRON</td><td>.</td></tr>\n",
       "</tbody>\n",
       "</table>"
      ],
      "text/plain": [
       "<IPython.core.display.HTML object>"
      ]
     },
     "metadata": {},
     "output_type": "display_data"
    },
    {
     "name": "stdout",
     "output_type": "stream",
     "text": [
      "Prob 8.294025685357724e-15\n"
     ]
    }
   ],
   "source": [
    "sentence = nltk.word_tokenize(\"The dog is mine.\")\n",
    "path, prob = viterbi_pos(cpd_tags, cpd_tagwords, sentence)\n",
    "show_tags(zip(sentence, tag_labels[path]))\n",
    "print('Prob', prob)"
   ]
  },
  {
   "cell_type": "code",
   "execution_count": 260,
   "metadata": {},
   "outputs": [
    {
     "data": {
      "text/html": [
       "<table>\n",
       "<tbody>\n",
       "<tr><td>I   </td><td>am  </td><td>a  </td><td>carrot</td><td>and </td><td>my </td><td>dog </td><td>is  </td><td>a  </td><td>cat </td><td>.</td></tr>\n",
       "<tr><td>PRON</td><td>VERB</td><td>DET</td><td>NOUN  </td><td>CONJ</td><td>DET</td><td>NOUN</td><td>VERB</td><td>DET</td><td>NOUN</td><td>.</td></tr>\n",
       "</tbody>\n",
       "</table>"
      ],
      "text/plain": [
       "<IPython.core.display.HTML object>"
      ]
     },
     "metadata": {},
     "output_type": "display_data"
    },
    {
     "name": "stdout",
     "output_type": "stream",
     "text": [
      "Prob 3.1210239555751608e-30\n"
     ]
    }
   ],
   "source": [
    "sentence = nltk.word_tokenize(\"I am a carrot and my dog is a cat.\")\n",
    "path, prob = viterbi_pos(cpd_tags, cpd_tagwords, sentence)\n",
    "show_tags(zip(sentence, tags[path]))\n",
    "print('Prob', prob)"
   ]
  }
 ],
 "metadata": {
  "kernelspec": {
   "display_name": "Python 3",
   "language": "python",
   "name": "python3"
  },
  "language_info": {
   "codemirror_mode": {
    "name": "ipython",
    "version": 3
   },
   "file_extension": ".py",
   "mimetype": "text/x-python",
   "name": "python",
   "nbconvert_exporter": "python",
   "pygments_lexer": "ipython3",
   "version": "3.6.7"
  }
 },
 "nbformat": 4,
 "nbformat_minor": 2
}
